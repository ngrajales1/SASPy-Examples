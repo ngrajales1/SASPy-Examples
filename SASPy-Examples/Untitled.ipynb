{
 "cells": [
  {
   "cell_type": "code",
   "execution_count": 1,
   "metadata": {},
   "outputs": [],
   "source": [
    "# This is an example of how SASpy can be used within python to predict potential donors from US Census data.\n",
    "\n",
    "\n",
    "# The dataset for this project originates from the [UCI Machine Learning Repository](https://archive.ics.uci.edu/ml/datasets/Census+Income). The datset was donated by Ron Kohavi and Barry Becker, after being published in the article _\"Scaling Up the Accuracy of Naive-Bayes Classifiers: A Decision-Tree Hybrid\"_. You can find the article by Ron Kohavi [online](https://www.aaai.org/Papers/KDD/1996/KDD96-033.pdf). The data we investigate here consists of small changes to the original dataset, such as removing the `'fnlwgt'` feature and records with missing or ill-formatted entries.\n",
    "\n"
   ]
  },
  {
   "cell_type": "code",
   "execution_count": 2,
   "metadata": {},
   "outputs": [],
   "source": [
    "#Import necessary libraries for this project\n",
    "import saspy\n",
    "import pandas as pd\n",
    "from time import time\n",
    "from IPython.display import display\n",
    "from IPython.display import HTML"
   ]
  },
  {
   "cell_type": "code",
   "execution_count": 3,
   "metadata": {},
   "outputs": [
    {
     "name": "stdout",
     "output_type": "stream",
     "text": [
      "SAS Connection established. Subprocess id is 27036\n",
      "\n"
     ]
    }
   ],
   "source": [
    "# starting the SAS session\n",
    "sas = saspy.SASsession(cfgname='autogen_winlocal')"
   ]
  },
  {
   "cell_type": "code",
   "execution_count": 4,
   "metadata": {},
   "outputs": [],
   "source": [
    "#loading the census data.\n",
    "\n",
    "#The foloowing method below display how to read a csv file using pandas and then reading in\n",
    "#the data frome into a SAS object\n",
    "#cen_data0_pd = pd.read_csv(\"C:\\\\Users\\\\negraj\\\\Documents\\\\Learning\\\\SAS and SASPy\\\\SASPy-Examples\\\\census.csv\")\n",
    "#cen_data0 = sas.df2sd(cen_data0_pd) # the short form of: hr = sas.dataframe2sasdata(hr_pd)\n",
    "\n",
    "#You can also read in a dataset directly into a SAS object using the code below.\n",
    "cen_data0 = sas.read_csv(\"C:\\\\Users\\\\negraj\\\\Documents\\\\Learning\\\\SAS and SASPy\\\\SASPy-Examples\\\\census.csv\")\n"
   ]
  },
  {
   "cell_type": "code",
   "execution_count": 5,
   "metadata": {},
   "outputs": [
    {
     "name": "stdout",
     "output_type": "stream",
     "text": [
      "First value is:\n"
     ]
    },
    {
     "data": {
      "text/html": [
       "<div>\n",
       "<style scoped>\n",
       "    .dataframe tbody tr th:only-of-type {\n",
       "        vertical-align: middle;\n",
       "    }\n",
       "\n",
       "    .dataframe tbody tr th {\n",
       "        vertical-align: top;\n",
       "    }\n",
       "\n",
       "    .dataframe thead th {\n",
       "        text-align: right;\n",
       "    }\n",
       "</style>\n",
       "<table border=\"1\" class=\"dataframe\">\n",
       "  <thead>\n",
       "    <tr style=\"text-align: right;\">\n",
       "      <th></th>\n",
       "      <th>age</th>\n",
       "      <th>workclass</th>\n",
       "      <th>education_level</th>\n",
       "      <th>education-num</th>\n",
       "      <th>marital-status</th>\n",
       "      <th>occupation</th>\n",
       "      <th>relationship</th>\n",
       "      <th>race</th>\n",
       "      <th>sex</th>\n",
       "      <th>capital-gain</th>\n",
       "      <th>capital-loss</th>\n",
       "      <th>hours-per-week</th>\n",
       "      <th>native-country</th>\n",
       "      <th>income</th>\n",
       "    </tr>\n",
       "  </thead>\n",
       "  <tbody>\n",
       "    <tr>\n",
       "      <th>0</th>\n",
       "      <td>39</td>\n",
       "      <td>State-gov</td>\n",
       "      <td>Bachelors</td>\n",
       "      <td>13</td>\n",
       "      <td>Never-married</td>\n",
       "      <td>Adm-clerical</td>\n",
       "      <td>Not-in-family</td>\n",
       "      <td>White</td>\n",
       "      <td>Male</td>\n",
       "      <td>2174</td>\n",
       "      <td>0</td>\n",
       "      <td>40</td>\n",
       "      <td>United-States</td>\n",
       "      <td>&lt;=50K</td>\n",
       "    </tr>\n",
       "  </tbody>\n",
       "</table>\n",
       "</div>"
      ],
      "text/plain": [
       "   age  workclass education_level  education-num marital-status    occupation  \\\n",
       "0   39  State-gov       Bachelors             13  Never-married  Adm-clerical   \n",
       "\n",
       "    relationship   race   sex  capital-gain  capital-loss  hours-per-week  \\\n",
       "0  Not-in-family  White  Male          2174             0              40   \n",
       "\n",
       "  native-country income  \n",
       "0  United-States  <=50K  "
      ]
     },
     "metadata": {},
     "output_type": "display_data"
    }
   ],
   "source": [
    "#Display the first record to verify data was read in\n",
    "#display(cen_data0_pd.head(n=1))\n",
    "print(\"First value is:\")\n",
    "display(cen_data0.head(obs=1))"
   ]
  },
  {
   "cell_type": "code",
   "execution_count": 6,
   "metadata": {},
   "outputs": [],
   "source": [
    "#Data Exploration using SASpy\n",
    "#display the amount of observations within your data\n",
    "records = cen_data0.obs()"
   ]
  },
  {
   "cell_type": "code",
   "execution_count": 7,
   "metadata": {},
   "outputs": [],
   "source": [
    "#Number of records where individuals income is more than $50,000\n",
    "# I am first going to turn our SAS data object into a pandas data frame to utilize\n",
    "#value counts. Using value counts allows me to count distnict values very easily\n",
    "cen_data0_pd = cen_data0.to_df()"
   ]
  },
  {
   "cell_type": "code",
   "execution_count": 8,
   "metadata": {},
   "outputs": [],
   "source": [
    "#Using value counts to count ditninct values in the data set. A quick print of the value displays the\n",
    "# ditinct value and its count. The first value returned by value counts is values x <= 50K\n",
    "# the second value is values x > 50K\n",
    "greater_50k = cen_data0_pd['income'].value_counts()[1]\n",
    "_50k_or_less = cen_data0_pd['income'].value_counts()[0]"
   ]
  },
  {
   "cell_type": "code",
   "execution_count": 9,
   "metadata": {},
   "outputs": [],
   "source": [
    "# Determining the percent of individuals whose income is greater than 50k\n",
    "greater_percent = (greater_50k/(greater_50k+_50k_or_less))*100"
   ]
  },
  {
   "cell_type": "code",
   "execution_count": 10,
   "metadata": {},
   "outputs": [
    {
     "name": "stdout",
     "output_type": "stream",
     "text": [
      "Total number of records: 45222\n",
      "Individuals making more than $50,000: 11208\n",
      "Individuals making at most $50,000: 34014\n",
      "Percentage of individuals making more than $50,000: 24.78439697492371%\n"
     ]
    }
   ],
   "source": [
    "print(\"Total number of records: {}\".format(records))\n",
    "print(\"Individuals making more than $50,000: {}\".format(greater_50k))\n",
    "print(\"Individuals making at most $50,000: {}\".format(_50k_or_less))\n",
    "print(\"Percentage of individuals making more than $50,000: {}%\".format(greater_percent))\n"
   ]
  },
  {
   "cell_type": "code",
   "execution_count": 11,
   "metadata": {},
   "outputs": [],
   "source": [
    "#----------------------Part 2------------------------------\n",
    "# Featureset Exploration\n",
    "#Transforming Skewed continous features\n",
    "#You need to use the content function to view the column number to then use it in the histogram function later"
   ]
  },
  {
   "cell_type": "code",
   "execution_count": 12,
   "metadata": {},
   "outputs": [
    {
     "data": {
      "text/plain": [
       "{'Attributes':       Member               Label1                     cValue1       nValue1  \\\n",
       " 0  WORK._CSV        Data Set Name                   WORK._CSV           NaN   \n",
       " 1  WORK._CSV          Member Type                        DATA           NaN   \n",
       " 2  WORK._CSV               Engine                          V9           NaN   \n",
       " 3  WORK._CSV              Created         05/23/2019 13:47:52  1.874238e+09   \n",
       " 4  WORK._CSV        Last Modified         05/23/2019 13:47:52  1.874238e+09   \n",
       " 5  WORK._CSV           Protection                         NaN           NaN   \n",
       " 6  WORK._CSV        Data Set Type                         NaN           NaN   \n",
       " 7  WORK._CSV                Label                         NaN           NaN   \n",
       " 8  WORK._CSV  Data Representation                  WINDOWS_64           NaN   \n",
       " 9  WORK._CSV             Encoding  wlatin1  Western (Windows)           NaN   \n",
       " \n",
       "                  Label2 cValue2  nValue2  \n",
       " 0          Observations   45222  45222.0  \n",
       " 1             Variables      14     14.0  \n",
       " 2               Indexes       0      0.0  \n",
       " 3    Observation Length     168    168.0  \n",
       " 4  Deleted Observations       0      0.0  \n",
       " 5            Compressed      NO      NaN  \n",
       " 6                Sorted      NO      NaN  \n",
       " 7                   NaN     NaN      0.0  \n",
       " 8                   NaN     NaN      0.0  \n",
       " 9                   NaN     NaN      0.0  ,\n",
       " 'Enginehost':       Member                      Label1  \\\n",
       " 0  WORK._CSV          Data Set Page Size   \n",
       " 1  WORK._CSV    Number of Data Set Pages   \n",
       " 2  WORK._CSV             First Data Page   \n",
       " 3  WORK._CSV            Max Obs per Page   \n",
       " 4  WORK._CSV      Obs in First Data Page   \n",
       " 5  WORK._CSV  Number of Data Set Repairs   \n",
       " 6  WORK._CSV            ExtendObsCounter   \n",
       " 7  WORK._CSV                    Filename   \n",
       " 8  WORK._CSV             Release Created   \n",
       " 9  WORK._CSV                Host Created   \n",
       " \n",
       "                                              cValue1  nValue1  \n",
       " 0                                              65536  65536.0  \n",
       " 1                                                117    117.0  \n",
       " 2                                                  1      1.0  \n",
       " 3                                                389    389.0  \n",
       " 4                                                374    374.0  \n",
       " 5                                                  0      0.0  \n",
       " 6                                                YES      NaN  \n",
       " 7  C:\\Users\\negraj\\AppData\\Local\\Temp\\SAS Tempora...      NaN  \n",
       " 8                                           9.0401M3      NaN  \n",
       " 9                                           X64_8PRO      NaN  ,\n",
       " 'Variables':        Member  Num         Variable  Type  Len  Pos   Format Informat\n",
       " 0   WORK._CSV    1              age   Num    8    0  BEST12.  BEST32.\n",
       " 1   WORK._CSV   10     capital-gain   Num    8   16  BEST12.  BEST32.\n",
       " 2   WORK._CSV   11     capital-loss   Num    8   24  BEST12.  BEST32.\n",
       " 3   WORK._CSV    4    education-num   Num    8    8  BEST12.  BEST32.\n",
       " 4   WORK._CSV    3  education_level  Char   12   56     $12.     $12.\n",
       " 5   WORK._CSV   12   hours-per-week   Num    8   32  BEST12.  BEST32.\n",
       " 6   WORK._CSV   14           income  Char    5  156      $5.      $5.\n",
       " 7   WORK._CSV    5   marital-status  Char   21   68     $21.     $21.\n",
       " 8   WORK._CSV   13   native-country  Char   13  143     $13.     $13.\n",
       " 9   WORK._CSV    6       occupation  Char   17   89     $17.     $17.\n",
       " 10  WORK._CSV    8             race  Char   18  119     $18.     $18.\n",
       " 11  WORK._CSV    7     relationship  Char   13  106     $13.     $13.\n",
       " 12  WORK._CSV    9              sex  Char    6  137      $6.      $6.\n",
       " 13  WORK._CSV    2        workclass  Char   16   40     $16.     $16.}"
      ]
     },
     "metadata": {},
     "output_type": "display_data"
    }
   ],
   "source": [
    "display(cen_data0.contents())"
   ]
  },
  {
   "cell_type": "code",
   "execution_count": null,
   "metadata": {},
   "outputs": [],
   "source": []
  }
 ],
 "metadata": {
  "kernelspec": {
   "display_name": "Python 3",
   "language": "python",
   "name": "python3"
  },
  "language_info": {
   "codemirror_mode": {
    "name": "ipython",
    "version": 3
   },
   "file_extension": ".py",
   "mimetype": "text/x-python",
   "name": "python",
   "nbconvert_exporter": "python",
   "pygments_lexer": "ipython3",
   "version": "3.6.7"
  }
 },
 "nbformat": 4,
 "nbformat_minor": 2
}
